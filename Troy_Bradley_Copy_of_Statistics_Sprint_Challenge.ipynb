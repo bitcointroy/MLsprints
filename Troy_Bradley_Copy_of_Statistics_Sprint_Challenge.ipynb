{
  "nbformat": 4,
  "nbformat_minor": 0,
  "metadata": {
    "colab": {
      "name": "Troy Bradley Copy of Statistics Sprint Challenge.ipynb",
      "version": "0.3.2",
      "provenance": []
    },
    "kernelspec": {
      "name": "python3",
      "display_name": "Python 3"
    }
  },
  "cells": [
    {
      "cell_type": "markdown",
      "metadata": {
        "id": "view-in-github",
        "colab_type": "text"
      },
      "source": [
        "[View in Colaboratory](https://colab.research.google.com/github/bitcointroy/MLsprints/blob/master/Troy_Bradley_Copy_of_Statistics_Sprint_Challenge.ipynb)"
      ]
    },
    {
      "metadata": {
        "id": "9Siy77yANn8h",
        "colab_type": "text"
      },
      "cell_type": "markdown",
      "source": [
        "## **Probability and Statistics**\n",
        "\n",
        "\n",
        "The journey into Statistics this week can be distilled into the following objectives:\n",
        "\n",
        "a) Conduct Quantitative Data Analysis\n",
        "\n",
        "b) Perform Graphical Data Analysis\n",
        "\n",
        "c) Use Statistical Techniques to make quantitative statements on data (encompassing discrete and continuous variables)\n",
        "\n",
        "\n",
        "\n",
        "In this Sprint Challenge, we are going to use the \"Loans\" data set. The data set contains information about applicants who have applied for home loans, their monthly incomes, the loan amount (in 000's) the property type they are seeking, Credit History (0 indicates no credit history) and their associated loan status.\n",
        "\n",
        "\n",
        "\n",
        "The dataset can be retrieved from here: https://www.dropbox.com/s/nmo9vweoscsg328/Loan_Dataset.csv?raw=1\n",
        "\n",
        "Create solutions for the following code blocks. This exercise should take ~ 3 hours.\n",
        "\n",
        "Share with mlsubmissions@lambdaschool.com when finished.\n"
      ]
    },
    {
      "metadata": {
        "id": "uGBw5qIacaoG",
        "colab_type": "code",
        "colab": {}
      },
      "cell_type": "code",
      "source": [
        "# LAMBDA SCHOOL\n",
        "#\n",
        "# MACHINE LEARNING\n",
        "#\n",
        "# MIT LICENSE\n",
        "\n",
        "import numpy as np\n",
        "import matplotlib.pyplot as plt\n",
        "import pandas as pd\n",
        "import seaborn as sns\n",
        "from sklearn.preprocessing import Imputer\n"
      ],
      "execution_count": 0,
      "outputs": []
    },
    {
      "metadata": {
        "id": "zcileHlvi3e0",
        "colab_type": "code",
        "colab": {}
      },
      "cell_type": "code",
      "source": [
        "import warnings\n",
        "\n",
        "def fxn():\n",
        "  warnings.warn('runtime', RuntimeWarning)\n",
        "  \n",
        "with warnings.catch_warnings():\n",
        "  warnings.simplefilter('ignore')\n",
        "  fxn()"
      ],
      "execution_count": 0,
      "outputs": []
    },
    {
      "metadata": {
        "id": "dQhEtBhFjYXy",
        "colab_type": "code",
        "colab": {}
      },
      "cell_type": "code",
      "source": [
        "ds = pd.read_csv('https://www.dropbox.com/s/nmo9vweoscsg328/Loan_Dataset.csv?raw=1')"
      ],
      "execution_count": 0,
      "outputs": []
    },
    {
      "metadata": {
        "id": "A9HQ9tiwcKLF",
        "colab_type": "text"
      },
      "cell_type": "markdown",
      "source": [
        "**Step 1:** Examine the data set for any missing values"
      ]
    },
    {
      "metadata": {
        "id": "2lsCzG_bcJCU",
        "colab_type": "code",
        "colab": {
          "base_uri": "https://localhost:8080/",
          "height": 514
        },
        "outputId": "4a0b0cfe-3ca4-4659-f9c0-952c45b45f43"
      },
      "cell_type": "code",
      "source": [
        "ds.head(15)"
      ],
      "execution_count": 18,
      "outputs": [
        {
          "output_type": "execute_result",
          "data": {
            "text/html": [
              "<div>\n",
              "<style scoped>\n",
              "    .dataframe tbody tr th:only-of-type {\n",
              "        vertical-align: middle;\n",
              "    }\n",
              "\n",
              "    .dataframe tbody tr th {\n",
              "        vertical-align: top;\n",
              "    }\n",
              "\n",
              "    .dataframe thead th {\n",
              "        text-align: right;\n",
              "    }\n",
              "</style>\n",
              "<table border=\"1\" class=\"dataframe\">\n",
              "  <thead>\n",
              "    <tr style=\"text-align: right;\">\n",
              "      <th></th>\n",
              "      <th>LoanID</th>\n",
              "      <th>Gender</th>\n",
              "      <th>Married</th>\n",
              "      <th>Dependents</th>\n",
              "      <th>Education</th>\n",
              "      <th>Self_Employed</th>\n",
              "      <th>ApplicantIncome</th>\n",
              "      <th>CoapplicantIncome</th>\n",
              "      <th>LoanAmount</th>\n",
              "      <th>Loan_Amount_Term</th>\n",
              "      <th>CreditHistory</th>\n",
              "      <th>PropertyArea</th>\n",
              "      <th>LoanStatus</th>\n",
              "    </tr>\n",
              "  </thead>\n",
              "  <tbody>\n",
              "    <tr>\n",
              "      <th>0</th>\n",
              "      <td>LP001002</td>\n",
              "      <td>Male</td>\n",
              "      <td>No</td>\n",
              "      <td>0</td>\n",
              "      <td>Graduate</td>\n",
              "      <td>No</td>\n",
              "      <td>5849</td>\n",
              "      <td>0.0</td>\n",
              "      <td>NaN</td>\n",
              "      <td>360.0</td>\n",
              "      <td>1.0</td>\n",
              "      <td>Urban</td>\n",
              "      <td>Y</td>\n",
              "    </tr>\n",
              "    <tr>\n",
              "      <th>1</th>\n",
              "      <td>LP001003</td>\n",
              "      <td>Male</td>\n",
              "      <td>Yes</td>\n",
              "      <td>1</td>\n",
              "      <td>Graduate</td>\n",
              "      <td>No</td>\n",
              "      <td>4583</td>\n",
              "      <td>1508.0</td>\n",
              "      <td>128.0</td>\n",
              "      <td>360.0</td>\n",
              "      <td>1.0</td>\n",
              "      <td>Rural</td>\n",
              "      <td>N</td>\n",
              "    </tr>\n",
              "    <tr>\n",
              "      <th>2</th>\n",
              "      <td>LP001005</td>\n",
              "      <td>Male</td>\n",
              "      <td>Yes</td>\n",
              "      <td>0</td>\n",
              "      <td>Graduate</td>\n",
              "      <td>Yes</td>\n",
              "      <td>3000</td>\n",
              "      <td>0.0</td>\n",
              "      <td>66.0</td>\n",
              "      <td>360.0</td>\n",
              "      <td>1.0</td>\n",
              "      <td>Urban</td>\n",
              "      <td>Y</td>\n",
              "    </tr>\n",
              "    <tr>\n",
              "      <th>3</th>\n",
              "      <td>LP001006</td>\n",
              "      <td>Male</td>\n",
              "      <td>Yes</td>\n",
              "      <td>0</td>\n",
              "      <td>Not Graduate</td>\n",
              "      <td>No</td>\n",
              "      <td>2583</td>\n",
              "      <td>2358.0</td>\n",
              "      <td>120.0</td>\n",
              "      <td>360.0</td>\n",
              "      <td>1.0</td>\n",
              "      <td>Urban</td>\n",
              "      <td>Y</td>\n",
              "    </tr>\n",
              "    <tr>\n",
              "      <th>4</th>\n",
              "      <td>LP001008</td>\n",
              "      <td>Male</td>\n",
              "      <td>No</td>\n",
              "      <td>0</td>\n",
              "      <td>Graduate</td>\n",
              "      <td>No</td>\n",
              "      <td>6000</td>\n",
              "      <td>0.0</td>\n",
              "      <td>141.0</td>\n",
              "      <td>360.0</td>\n",
              "      <td>1.0</td>\n",
              "      <td>Urban</td>\n",
              "      <td>Y</td>\n",
              "    </tr>\n",
              "    <tr>\n",
              "      <th>5</th>\n",
              "      <td>LP001011</td>\n",
              "      <td>Male</td>\n",
              "      <td>Yes</td>\n",
              "      <td>2</td>\n",
              "      <td>Graduate</td>\n",
              "      <td>Yes</td>\n",
              "      <td>5417</td>\n",
              "      <td>4196.0</td>\n",
              "      <td>267.0</td>\n",
              "      <td>360.0</td>\n",
              "      <td>1.0</td>\n",
              "      <td>Urban</td>\n",
              "      <td>Y</td>\n",
              "    </tr>\n",
              "    <tr>\n",
              "      <th>6</th>\n",
              "      <td>LP001013</td>\n",
              "      <td>Male</td>\n",
              "      <td>Yes</td>\n",
              "      <td>0</td>\n",
              "      <td>Not Graduate</td>\n",
              "      <td>No</td>\n",
              "      <td>2333</td>\n",
              "      <td>1516.0</td>\n",
              "      <td>95.0</td>\n",
              "      <td>360.0</td>\n",
              "      <td>1.0</td>\n",
              "      <td>Urban</td>\n",
              "      <td>Y</td>\n",
              "    </tr>\n",
              "    <tr>\n",
              "      <th>7</th>\n",
              "      <td>LP001014</td>\n",
              "      <td>Male</td>\n",
              "      <td>Yes</td>\n",
              "      <td>3+</td>\n",
              "      <td>Graduate</td>\n",
              "      <td>No</td>\n",
              "      <td>3036</td>\n",
              "      <td>2504.0</td>\n",
              "      <td>158.0</td>\n",
              "      <td>360.0</td>\n",
              "      <td>0.0</td>\n",
              "      <td>Semiurban</td>\n",
              "      <td>N</td>\n",
              "    </tr>\n",
              "    <tr>\n",
              "      <th>8</th>\n",
              "      <td>LP001018</td>\n",
              "      <td>Male</td>\n",
              "      <td>Yes</td>\n",
              "      <td>2</td>\n",
              "      <td>Graduate</td>\n",
              "      <td>No</td>\n",
              "      <td>4006</td>\n",
              "      <td>1526.0</td>\n",
              "      <td>168.0</td>\n",
              "      <td>360.0</td>\n",
              "      <td>1.0</td>\n",
              "      <td>Urban</td>\n",
              "      <td>Y</td>\n",
              "    </tr>\n",
              "    <tr>\n",
              "      <th>9</th>\n",
              "      <td>LP001020</td>\n",
              "      <td>Male</td>\n",
              "      <td>Yes</td>\n",
              "      <td>1</td>\n",
              "      <td>Graduate</td>\n",
              "      <td>No</td>\n",
              "      <td>12841</td>\n",
              "      <td>10968.0</td>\n",
              "      <td>349.0</td>\n",
              "      <td>360.0</td>\n",
              "      <td>1.0</td>\n",
              "      <td>Semiurban</td>\n",
              "      <td>N</td>\n",
              "    </tr>\n",
              "    <tr>\n",
              "      <th>10</th>\n",
              "      <td>LP001024</td>\n",
              "      <td>Male</td>\n",
              "      <td>Yes</td>\n",
              "      <td>2</td>\n",
              "      <td>Graduate</td>\n",
              "      <td>No</td>\n",
              "      <td>3200</td>\n",
              "      <td>700.0</td>\n",
              "      <td>70.0</td>\n",
              "      <td>360.0</td>\n",
              "      <td>1.0</td>\n",
              "      <td>Urban</td>\n",
              "      <td>Y</td>\n",
              "    </tr>\n",
              "    <tr>\n",
              "      <th>11</th>\n",
              "      <td>LP001027</td>\n",
              "      <td>Male</td>\n",
              "      <td>Yes</td>\n",
              "      <td>2</td>\n",
              "      <td>Graduate</td>\n",
              "      <td>NaN</td>\n",
              "      <td>2500</td>\n",
              "      <td>1840.0</td>\n",
              "      <td>109.0</td>\n",
              "      <td>360.0</td>\n",
              "      <td>1.0</td>\n",
              "      <td>Urban</td>\n",
              "      <td>Y</td>\n",
              "    </tr>\n",
              "    <tr>\n",
              "      <th>12</th>\n",
              "      <td>LP001028</td>\n",
              "      <td>Male</td>\n",
              "      <td>Yes</td>\n",
              "      <td>2</td>\n",
              "      <td>Graduate</td>\n",
              "      <td>No</td>\n",
              "      <td>3073</td>\n",
              "      <td>8106.0</td>\n",
              "      <td>200.0</td>\n",
              "      <td>360.0</td>\n",
              "      <td>1.0</td>\n",
              "      <td>Urban</td>\n",
              "      <td>Y</td>\n",
              "    </tr>\n",
              "    <tr>\n",
              "      <th>13</th>\n",
              "      <td>LP001029</td>\n",
              "      <td>Male</td>\n",
              "      <td>No</td>\n",
              "      <td>0</td>\n",
              "      <td>Graduate</td>\n",
              "      <td>No</td>\n",
              "      <td>1853</td>\n",
              "      <td>2840.0</td>\n",
              "      <td>114.0</td>\n",
              "      <td>360.0</td>\n",
              "      <td>1.0</td>\n",
              "      <td>Rural</td>\n",
              "      <td>N</td>\n",
              "    </tr>\n",
              "    <tr>\n",
              "      <th>14</th>\n",
              "      <td>LP001030</td>\n",
              "      <td>Male</td>\n",
              "      <td>Yes</td>\n",
              "      <td>2</td>\n",
              "      <td>Graduate</td>\n",
              "      <td>No</td>\n",
              "      <td>1299</td>\n",
              "      <td>1086.0</td>\n",
              "      <td>17.0</td>\n",
              "      <td>120.0</td>\n",
              "      <td>1.0</td>\n",
              "      <td>Urban</td>\n",
              "      <td>Y</td>\n",
              "    </tr>\n",
              "  </tbody>\n",
              "</table>\n",
              "</div>"
            ],
            "text/plain": [
              "      LoanID Gender Married Dependents     Education Self_Employed  \\\n",
              "0   LP001002   Male      No          0      Graduate            No   \n",
              "1   LP001003   Male     Yes          1      Graduate            No   \n",
              "2   LP001005   Male     Yes          0      Graduate           Yes   \n",
              "3   LP001006   Male     Yes          0  Not Graduate            No   \n",
              "4   LP001008   Male      No          0      Graduate            No   \n",
              "5   LP001011   Male     Yes          2      Graduate           Yes   \n",
              "6   LP001013   Male     Yes          0  Not Graduate            No   \n",
              "7   LP001014   Male     Yes         3+      Graduate            No   \n",
              "8   LP001018   Male     Yes          2      Graduate            No   \n",
              "9   LP001020   Male     Yes          1      Graduate            No   \n",
              "10  LP001024   Male     Yes          2      Graduate            No   \n",
              "11  LP001027   Male     Yes          2      Graduate           NaN   \n",
              "12  LP001028   Male     Yes          2      Graduate            No   \n",
              "13  LP001029   Male      No          0      Graduate            No   \n",
              "14  LP001030   Male     Yes          2      Graduate            No   \n",
              "\n",
              "    ApplicantIncome  CoapplicantIncome  LoanAmount  Loan_Amount_Term  \\\n",
              "0              5849                0.0         NaN             360.0   \n",
              "1              4583             1508.0       128.0             360.0   \n",
              "2              3000                0.0        66.0             360.0   \n",
              "3              2583             2358.0       120.0             360.0   \n",
              "4              6000                0.0       141.0             360.0   \n",
              "5              5417             4196.0       267.0             360.0   \n",
              "6              2333             1516.0        95.0             360.0   \n",
              "7              3036             2504.0       158.0             360.0   \n",
              "8              4006             1526.0       168.0             360.0   \n",
              "9             12841            10968.0       349.0             360.0   \n",
              "10             3200              700.0        70.0             360.0   \n",
              "11             2500             1840.0       109.0             360.0   \n",
              "12             3073             8106.0       200.0             360.0   \n",
              "13             1853             2840.0       114.0             360.0   \n",
              "14             1299             1086.0        17.0             120.0   \n",
              "\n",
              "    CreditHistory PropertyArea LoanStatus  \n",
              "0             1.0        Urban          Y  \n",
              "1             1.0        Rural          N  \n",
              "2             1.0        Urban          Y  \n",
              "3             1.0        Urban          Y  \n",
              "4             1.0        Urban          Y  \n",
              "5             1.0        Urban          Y  \n",
              "6             1.0        Urban          Y  \n",
              "7             0.0    Semiurban          N  \n",
              "8             1.0        Urban          Y  \n",
              "9             1.0    Semiurban          N  \n",
              "10            1.0        Urban          Y  \n",
              "11            1.0        Urban          Y  \n",
              "12            1.0        Urban          Y  \n",
              "13            1.0        Rural          N  \n",
              "14            1.0        Urban          Y  "
            ]
          },
          "metadata": {
            "tags": []
          },
          "execution_count": 18
        }
      ]
    },
    {
      "metadata": {
        "id": "mHPdBaoukdMm",
        "colab_type": "code",
        "colab": {
          "base_uri": "https://localhost:8080/",
          "height": 340
        },
        "outputId": "9398782c-c7e7-4bb0-ca26-90294daa5996"
      },
      "cell_type": "code",
      "source": [
        "print(ds.isnull().sum())"
      ],
      "execution_count": 20,
      "outputs": [
        {
          "output_type": "stream",
          "text": [
            "LoanID                0\n",
            "Gender               13\n",
            "Married               3\n",
            "Dependents           15\n",
            "Education             0\n",
            "Self_Employed        32\n",
            "ApplicantIncome       0\n",
            "CoapplicantIncome     0\n",
            "LoanAmount           22\n",
            "Loan_Amount_Term     14\n",
            "CreditHistory        50\n",
            "PropertyArea          0\n",
            "LoanStatus            0\n",
            "dtype: int64\n",
            "(614, 13)\n",
            "Index(['LoanID', 'Gender', 'Married', 'Dependents', 'Education',\n",
            "       'Self_Employed', 'ApplicantIncome', 'CoapplicantIncome', 'LoanAmount',\n",
            "       'Loan_Amount_Term', 'CreditHistory', 'PropertyArea', 'LoanStatus'],\n",
            "      dtype='object')\n"
          ],
          "name": "stdout"
        }
      ]
    },
    {
      "metadata": {
        "id": "6u4r4-pxF_Ji",
        "colab_type": "code",
        "colab": {
          "base_uri": "https://localhost:8080/",
          "height": 918
        },
        "outputId": "7b30374c-0f79-49d1-878b-ddd6c01377b5"
      },
      "cell_type": "code",
      "source": [
        "ds_zeros = ds.fillna(0)\n",
        "sns.pairplot(ds_zeros)"
      ],
      "execution_count": 22,
      "outputs": [
        {
          "output_type": "execute_result",
          "data": {
            "text/plain": [
              "<seaborn.axisgrid.PairGrid at 0x7fdea2605d68>"
            ]
          },
          "metadata": {
            "tags": []
          },
          "execution_count": 22
        },
        {
          "output_type": "display_data",
          "data": {
            "image/png": "[encoded data removed]",
            "text/plain": [
              "<matplotlib.figure.Figure at 0x7fdea26059e8>"
            ]
          },
          "metadata": {
            "tags": []
          }
        }
      ]
    },
    {
      "metadata": {
        "id": "Q9eVWs40cs7n",
        "colab_type": "text"
      },
      "cell_type": "markdown",
      "source": [
        "**Step 2:** If there are any missing values, treat the misisng values. Here is a article that provides insight into the common methods to deal with missing values:\n",
        "\n",
        "https://towardsdatascience.com/working-with-missing-data-in-machine-learning-9c0a430df4ce\n",
        "\n",
        "Please use the tips provided in the article to deal with missing values"
      ]
    },
    {
      "metadata": {
        "id": "zfh4Bj_ScrwA",
        "colab_type": "code",
        "colab": {}
      },
      "cell_type": "code",
      "source": [
        "ds_i = ds\n",
        "\n",
        "def replace_most_common(x):\n",
        "  if pd.isnull(x):\n",
        "    return most_common\n",
        "  else:\n",
        "    return x\n",
        "  \n",
        "def replace_mean(x):\n",
        "  imputer = Imputer(missing_values=np.nan, strategy='mean', axis=1)\n",
        "  ds_i[x] = imputer.fit_transform(ds[x])\n",
        "\n",
        "\n",
        "cats = ['Gender', 'Married', 'Dependents', 'Education', 'Self_Employed', 'Loan_Amount_Term', 'CreditHistory', 'PropertyArea']\n",
        "continuous = ['ApplicantIncome', 'CoapplicantIncome', 'LoanAmount']\n",
        "\n",
        "# I didn't include LoanID or LoanStatus because if there were NaNs in those columns, the record would be dropped\n",
        "# A missing LoanID could be assigned, but would risk a collision with other data from the same source\n",
        "# A missing LoanStatus would render the record useless for analysis"
      ],
      "execution_count": 0,
      "outputs": []
    },
    {
      "metadata": {
        "id": "dHOw8TVMN73w",
        "colab_type": "code",
        "colab": {
          "base_uri": "https://localhost:8080/",
          "height": 289
        },
        "outputId": "f9c695cd-acea-4a2f-d676-bef898267f4f"
      },
      "cell_type": "code",
      "source": [
        "for col in cats:\n",
        "  ds_i[col] = replace_most_common(col)\n",
        "\n",
        "LoanAmount_mean = ds['LoanAmount'].mean()\n",
        "print(LoanAmount_mean)\n",
        "ds_i['LoanAmount'] = ds['LoanAmount'].fillna(LoanAmount_mean)\n",
        "\n",
        "print(ds_i.shape)\n",
        "print(ds_i.isnull().sum())\n",
        "\n",
        "# Loan Amount was the only column left with any NaNs\n"
      ],
      "execution_count": 54,
      "outputs": [
        {
          "output_type": "stream",
          "text": [
            "146.41216216216216\n",
            "(614, 13)\n",
            "LoanID               0\n",
            "Gender               0\n",
            "Married              0\n",
            "Dependents           0\n",
            "Education            0\n",
            "Self_Employed        0\n",
            "ApplicantIncome      0\n",
            "CoapplicantIncome    0\n",
            "LoanAmount           0\n",
            "Loan_Amount_Term     0\n",
            "CreditHistory        0\n",
            "PropertyArea         0\n",
            "LoanStatus           0\n",
            "dtype: int64\n"
          ],
          "name": "stdout"
        }
      ]
    },
    {
      "metadata": {
        "id": "X3Y42q59edso",
        "colab_type": "text"
      },
      "cell_type": "markdown",
      "source": [
        "**Step 3:**  Conduct Quantitative Data Analysis - Compute summary statistics i.e. Mean, Median, Standard Deviation, Variance for:\n",
        "\n",
        "1) Applicant Income, 2) Total Income = Applicant Income + Coapplicant Income 3) Loan Amount, 4) Loan Term"
      ]
    },
    {
      "metadata": {
        "id": "NwC9D-_DiJU5",
        "colab_type": "code",
        "colab": {}
      },
      "cell_type": "code",
      "source": [
        "# I think Loan Term is categorical. 30 year is most common, followed by 15 year\n",
        "# 10 and 20 year loans exist, but are fewer.\n",
        "# Any term outside of these 4 are outliers, but will skew the median/mean\n",
        "# I would suggest assigning 20+ year loans the label Long Term and all \n",
        "# shorter terms the label Short Term."
      ],
      "execution_count": 0,
      "outputs": []
    },
    {
      "metadata": {
        "id": "Wh8LZkxLiKVZ",
        "colab_type": "text"
      },
      "cell_type": "markdown",
      "source": [
        "**Step 4:** Perform Graphical Data Analysis:\n",
        "\n",
        "a) Contruct an ECDF to analyze the distribution of 1) Applicant Income, 2) Total Income = Applicant Income + Coapplicant Income 3) Loan Amount, 4) Loan Term\n",
        "\n",
        "b) Overlay each of the ECDF plots with markers (i.e. Diamonds) depicting the corresponding 25th, 50th and 75th percentiles respectively\n",
        "\n",
        "c) Build Histograms to examine the distribution of 1) Applicant Income, 2) Total Income = Applicant Income + Coapplicant Income 3) Loan Amount, 4) Loan Term\n",
        "\n",
        "d) Create BoxPlots to understand the distribution of 1) Application Income By Gender of Applicant, 2) Application Income By Education of Applicant, 3) Application Income by Employment Type, 4) Loan Amount by Gender of Applicant, 5) Loan Amount by Education of Applicant, 6) Loan Amount by Employment Type\n",
        "\n",
        "e) Construct Bee Swarm Plots to analyze the distribution of 1) Application Income By Gender of Applicant, 2) Application Income By Education of Applicant, 3) Application Income by Employment Type, 4) Loan Amount by Gender of Applicant, 5) Loan Amount by Education of Applicant, 6) Loan Amount by Employment Type\n",
        "\n",
        "g) Plot a Stacked Bar Chart showcasing Count of Applicants by Loan Status and Gender. The Gender attribute is color coded within the stacked bar chart"
      ]
    },
    {
      "metadata": {
        "id": "3AvHQjZWitZe",
        "colab_type": "code",
        "colab": {}
      },
      "cell_type": "code",
      "source": [
        ""
      ],
      "execution_count": 0,
      "outputs": []
    },
    {
      "metadata": {
        "id": "3DE2aZMdPWNX",
        "colab_type": "text"
      },
      "cell_type": "markdown",
      "source": [
        "**Step 5: ** Compute the chances of securing/getting a loan based on Credit History\n",
        "\n",
        "Hint: Will require the use of the crosstab function"
      ]
    },
    {
      "metadata": {
        "id": "m3krOt_kPUQF",
        "colab_type": "code",
        "colab": {}
      },
      "cell_type": "code",
      "source": [
        ""
      ],
      "execution_count": 0,
      "outputs": []
    },
    {
      "metadata": {
        "id": "dVMl5fhvvwLx",
        "colab_type": "text"
      },
      "cell_type": "markdown",
      "source": [
        "**Step 6:** Use Statistical Techniques to make quantitative statements on data\n",
        "\n",
        "**1)** Detect relationships in the Loan dataset. \n",
        "\n",
        "For example: \n",
        "\n",
        "a) Does the 'Applicant Income' and the 'Loan Amount' vary together? Construct a scatter plot that plots the 'Applicant Income' v/s \"Loan Amount\"'. Does the Scatter Plot point to a positive covariance? Now, compute the Covariance. \n",
        "\n",
        "b) Does the 'Total Income' and the 'Loan Amount' vary together? Construct a scatter plot that plots the 'Total Income' v/s \"Loan Amount\"'. Does the Scatter Plot point to a positive covariance? Now, compute the Covariance.\n",
        "\n",
        "c) Are there any other variables that vary together? Construct a scatter plot that plots the respective variables. Does the Scatter Plot point to a positive covariance? Now, compute the Covariance.\n",
        "\n",
        "\n",
        "**2)** Gauge the strength of the relationships\n",
        "\n",
        "For example:\n",
        "\n",
        "a) Compute the Correlation Coefficient between the 2 variable i.e. 'Applicant Income' and the 'Loan Amount'.\n",
        "\n",
        "b) Compute the Correlation Coefficient between the 2 variable i.e. 'Total Income' and the 'Loan Amount'.\n",
        " \n",
        "c) Compute the Correlation Coefficient between the pair of variables you have identied\n",
        "  "
      ]
    },
    {
      "metadata": {
        "id": "i9Tej0OF7jMp",
        "colab_type": "code",
        "colab": {}
      },
      "cell_type": "code",
      "source": [
        "# For 2-c I'd like to compare the ratio of Total Income x 12 to Loan Amount\n",
        "# and the Loan Status. If ratio > 4, Status should be No"
      ],
      "execution_count": 0,
      "outputs": []
    },
    {
      "metadata": {
        "id": "cbQ8eZbY7kX1",
        "colab_type": "text"
      },
      "cell_type": "markdown",
      "source": [
        "**Step 7:** Use Statistical Techniques to make quantitative statements on data. We will use a) Spearman's Rank Correlation, b) Chi-Square tables\n",
        "\n",
        "1) Detect relationships amongst categorical, non-linearly related and non-normally distributed variables in the Loan dataset\n",
        "\n",
        "For example: \n",
        "\n",
        "  a) Construct a Scatter Plot of 'Loan Term' amd 'Credit History' to verify that the variables are related non-lineraly. Create a Histogram for \"Loan Term\" and 'Credit History' to ascertain that they are \n",
        "     not-normally distributed. A visual examination of the data proves that 'Loan Term' and 'Credit History' are numeric variables that can be placed in categories.\n",
        "\n",
        "  b) Compute the Spearman's Rank Correlation Coefficient\n",
        "\n",
        "  c) Conduct the Chi-Square test to ascertain how the 'Loan Term' variable is related to 'Credit History'\n",
        "\n",
        "2) Use Spearman's Rank to find the correlation between **other ** categorical, non-linearly related and non-normally distributed variables.\n",
        "\n",
        "*Hint*: There are categorical variables in the dataset that can be coded as numeric values i.e. 0,1"
      ]
    },
    {
      "metadata": {
        "id": "VQhF6diYG1vG",
        "colab_type": "code",
        "colab": {}
      },
      "cell_type": "code",
      "source": [
        ""
      ],
      "execution_count": 0,
      "outputs": []
    },
    {
      "metadata": {
        "id": "5nbnaEsSH18L",
        "colab_type": "text"
      },
      "cell_type": "markdown",
      "source": [
        "**Step 8**: Check for Normality - Check normality by overlaying the 'ECDF' over the 'CDF'.\n",
        "\n",
        "Reference: https://www.andata.at/en/software-blog-reader/why-we-love-the-cdf-and-do-not-like-histograms-that-much.html\n",
        "\n",
        "Does the distribution of 'Applicant Income' follow a normal distribution?\n",
        "\n",
        "Hint: Code Snippet has been provided. Complete the rest of the code.\n",
        "\n"
      ]
    },
    {
      "metadata": {
        "id": "JR5ONv2sJ_RZ",
        "colab_type": "code",
        "colab": {}
      },
      "cell_type": "code",
      "source": [
        "#Function to compute the ECDF\n",
        "def ECDF(input):\n",
        " \n",
        "    # Number of data points\n",
        "    n = len(input)\n",
        "    \n",
        "    # x_data for the ECDF\n",
        "    x_data = np.sort(input)\n",
        "\n",
        "    # y_data for the ECDF\n",
        "    y_data = np.arange(1, n+1) / n\n",
        "\n",
        "    return x_data, y_data\n",
        "  \n",
        "  \n",
        "#Checking the Normality of Data - we will compute the CDF by using np.random.samples to draw samples and then compare with ECDF\n",
        "mean = np.mean(Fill in the code) \n",
        "std = np.std(Fill in the code)\n",
        "\n",
        "\n",
        "#Draw Samples\n",
        "samples = np.random.normal(mean, std, size=10000)\n",
        "\n",
        "\n",
        "#Compute ECDF \n",
        "\n",
        "Fill in the code\n",
        "\n",
        "#Compute CDF\n",
        "\n",
        "Fill in the code\n",
        "\n",
        "\n",
        "# Generate plot\n",
        "\n",
        "Fill in the code\n",
        "\n",
        "# Label the axes\n",
        "plt.xlabel('Applicant Income')\n",
        "plt.ylabel('CDF')\n",
        "           \n",
        "# Show the plot           \n",
        "plt.show()\n",
        "\n",
        "#State your conclusion\n"
      ],
      "execution_count": 0,
      "outputs": []
    },
    {
      "metadata": {
        "id": "AQ9XxEPUXuNH",
        "colab_type": "text"
      },
      "cell_type": "markdown",
      "source": [
        "**Step 9:** Use Statistical Techniques to make quantitative statements on data. \n",
        "\n",
        "What are the chances that the bank fail? \n",
        "\n",
        "Let's assume for every 0 to 1000 mortgage loans the bank makes, a certain number of loans will be defaulted on. The probability of a loan default is p = 0.05 The bank will fail if there are greater than 100 defaults.\n",
        "\n",
        "Hint: Use the techniques applied in Coding Challenge #4\n",
        "\n",
        "\n"
      ]
    },
    {
      "metadata": {
        "id": "gJ1_nhsnXvS7",
        "colab_type": "code",
        "colab": {}
      },
      "cell_type": "code",
      "source": [
        "# Prediction: The bank can make 1979 to 1999 loans before they have their 100th default\n"
      ],
      "execution_count": 0,
      "outputs": []
    },
    {
      "metadata": {
        "id": "y35jLoV2NNEk",
        "colab_type": "text"
      },
      "cell_type": "markdown",
      "source": [
        "**Step 10**: Publish findings - In this step, you are going to conduct statistical analysis on a dataset from the Data.gov website.\n",
        "\n",
        "1) Pick a dataset (decent size dataset - approx. 10k to 15K records)\n",
        "\n",
        "2) Walk through the statistical analysis journey highlighted within this Sprint Challenge\n",
        "\n",
        "3) Summarize your findings at each step of the statistical analysis journey\n",
        "\n",
        "4) Conclude your the journey with a brief section providing an overview of your findings\n",
        "\n",
        "5) Publish your statistical analysis journey as a blog post\n",
        "\n",
        "6) Include a link to your blog post in your submission\n",
        "\n"
      ]
    }
  ]
}