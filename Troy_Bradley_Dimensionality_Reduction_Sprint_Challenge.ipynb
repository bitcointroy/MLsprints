{
  "nbformat": 4,
  "nbformat_minor": 0,
  "metadata": {
    "colab": {
      "name": "Troy Bradley Dimensionality Reduction Sprint Challenge.ipynb",
      "version": "0.3.2",
      "provenance": [],
      "collapsed_sections": []
    },
    "kernelspec": {
      "name": "python3",
      "display_name": "Python 3"
    }
  },
  "cells": [
    {
      "cell_type": "markdown",
      "metadata": {
        "id": "view-in-github",
        "colab_type": "text"
      },
      "source": [
        "[View in Colaboratory](https://colab.research.google.com/github/bitcointroy/MLsprints/blob/master/Troy_Bradley_Dimensionality_Reduction_Sprint_Challenge.ipynb)"
      ]
    },
    {
      "metadata": {
        "id": "13M2_Ev46xb0",
        "colab_type": "text"
      },
      "cell_type": "markdown",
      "source": [
        "# Dimensionality Reduction Sprint Challenge\n",
        "\n",
        "A powerful method for dimensionality reduction is using Principal Components Analysis (PCA).\n",
        "\n",
        "Students should be able to complete objectives after this sprint:\n",
        "* Identify the use case for normalization\n",
        "* Graph the top two dimensions of a high dimensional dataset with PCA\n",
        "* Compute the eigenvectors and eigenvalues of a dataset\n",
        "\n",
        "Lets use the UCI Wine Dataset for this Sprint  Challenge: It is high dimensional, numeric, and clean - an excellent opportunity for PCA.\n",
        "\n",
        "[UCI Wine Data Set](http://archive.ics.uci.edu/ml/datasets/Wine)\n",
        "\n",
        "The UCI License forbids redistributing their data. We can link directly to it!\n",
        "\n",
        "[UCI Wine Data Set Data](http://archive.ics.uci.edu/ml/machine-learning-databases/wine/)"
      ]
    },
    {
      "metadata": {
        "id": "yzxtjQAJ6uDb",
        "colab_type": "code",
        "colab": {
          "base_uri": "https://localhost:8080/",
          "height": 204
        },
        "outputId": "983a221d-9d82-4977-8aee-059dba8c399e"
      },
      "cell_type": "code",
      "source": [
        "# Download the data to your colab instance!\n",
        "!wget http://archive.ics.uci.edu/ml/machine-learning-databases/wine/wine.data -O wine.data"
      ],
      "execution_count": 2,
      "outputs": [
        {
          "output_type": "stream",
          "text": [
            "--2018-04-20 17:30:54--  http://archive.ics.uci.edu/ml/machine-learning-databases/wine/wine.data\n",
            "Resolving archive.ics.uci.edu (archive.ics.uci.edu)... 128.195.10.249\n",
            "Connecting to archive.ics.uci.edu (archive.ics.uci.edu)|128.195.10.249|:80... connected.\n",
            "HTTP request sent, awaiting response... 200 OK\n",
            "Length: 10782 (11K) [text/plain]\n",
            "Saving to: ‘wine.data’\n",
            "\n",
            "wine.data           100%[===================>]  10.53K  --.-KB/s    in 0s      \n",
            "\n",
            "2018-04-20 17:30:54 (273 MB/s) - ‘wine.data’ saved [10782/10782]\n",
            "\n"
          ],
          "name": "stdout"
        }
      ]
    },
    {
      "metadata": {
        "id": "cRiO_w0Wh7BX",
        "colab_type": "code",
        "colab": {}
      },
      "cell_type": "code",
      "source": [
        "# LAMBDA SCHOOL\n",
        "#\n",
        "# MACHINE LEARNING\n",
        "#\n",
        "# MIT LICENSE\n",
        "\n",
        "import pandas as pd\n",
        "import numpy as np\n",
        "import matplotlib.pyplot as plt\n",
        "\n",
        "data = pd.read_csv('wine.data')\n",
        "\n",
        "# Column names from:\n",
        "# http://archive.ics.uci.edu/ml/machine-learning-databases/wine/wine.names\n",
        "columns = ['vinyard','alcohol','malic acid','ash','ash alcalinity','magnesium',\n",
        "           'Total phenols','Flavanoids','Nonflavanoid phenols','Proanthocyanins',\n",
        "           'Color intensity','Hue','dilute OD280/OD315', 'Proline']\n",
        "\n",
        "data.columns = columns\n",
        "\n",
        "vinyard = data['vinyard']\n",
        "data = data.drop(['vinyard'],axis=1)\n",
        "colors = np.array(['red','green','blue'])[np.array([vinyard])-1]"
      ],
      "execution_count": 0,
      "outputs": []
    },
    {
      "metadata": {
        "id": "7BBGVW4WhMmM",
        "colab_type": "text"
      },
      "cell_type": "markdown",
      "source": [
        "# 1. Identify the use case for normalization\n",
        "\n",
        "Principal Components Analysis will give us a view into our data that maximizes its variance, potentially improving intuition and learning algorithms. Look at the below `data.std()` output. If we use PCA to project the wine dataset onto the 3 dimensions with the highest variance, which ones will they be? How will this projection differ than simply plotting the three dimensions directly?"
      ]
    },
    {
      "metadata": {
        "id": "IuffaCLSiHok",
        "colab_type": "code",
        "colab": {
          "base_uri": "https://localhost:8080/",
          "height": 255
        },
        "outputId": "ec21eb19-3027-4e38-a14c-d33756495c09"
      },
      "cell_type": "code",
      "source": [
        "print(data.std())"
      ],
      "execution_count": 4,
      "outputs": [
        {
          "output_type": "stream",
          "text": [
            "alcohol                   0.808808\n",
            "malic acid                1.119314\n",
            "ash                       0.275080\n",
            "ash alcalinity            3.336071\n",
            "magnesium                14.174018\n",
            "Total phenols             0.626465\n",
            "Flavanoids                0.998658\n",
            "Nonflavanoid phenols      0.124653\n",
            "Proanthocyanins           0.571545\n",
            "Color intensity           2.324446\n",
            "Hue                       0.229135\n",
            "dilute OD280/OD315        0.705103\n",
            "Proline                 314.884046\n",
            "dtype: float64\n"
          ],
          "name": "stdout"
        }
      ]
    },
    {
      "metadata": {
        "id": "sq6eLsBqjCF9",
        "colab_type": "text"
      },
      "cell_type": "markdown",
      "source": [
        "# 2. Graph the top two dimensions of a high dimensional dataset using PCA\n",
        "\n",
        "Use PCA with 2 components to plot the top two dimensions of this dataset. Apply the color vector above so that the origin of each sample is visible."
      ]
    },
    {
      "metadata": {
        "id": "Obh67m9riK2V",
        "colab_type": "code",
        "colab": {
          "base_uri": "https://localhost:8080/",
          "height": 364
        },
        "outputId": "60ba6d0d-5899-47d9-b4b6-05358c76b1a8"
      },
      "cell_type": "code",
      "source": [
        "# Use PCA and make a graph of data\n",
        "from sklearn.decomposition import PCA\n",
        "\n",
        "model = PCA(n_components=2)\n",
        "model.fit(data)\n",
        "X_2D = model.transform(data)\n",
        "#print(model.components_)\n",
        "#print(np.sqrt(model.singular_values_))\n",
        "#print(model.get_covariance())\n",
        "xx, xy = X_2D.T\n",
        "plt.plot(xx,xy,'o')"
      ],
      "execution_count": 8,
      "outputs": [
        {
          "output_type": "execute_result",
          "data": {
            "text/plain": [
              "[<matplotlib.lines.Line2D at 0x7f9c2922fba8>]"
            ]
          },
          "metadata": {
            "tags": []
          },
          "execution_count": 8
        },
        {
          "output_type": "display_data",
          "data": {
            "image/png": "[encoded data removed]",
            "text/plain": [
              "<matplotlib.figure.Figure at 0x7f9c2b3f8160>"
            ]
          },
          "metadata": {
            "tags": []
          }
        }
      ]
    },
    {
      "metadata": {
        "id": "CIcGSzd9j_jo",
        "colab_type": "text"
      },
      "cell_type": "markdown",
      "source": [
        "# 3. Graph the top two dimensions of a normalized high dimensional dataset using PCA\n",
        "\n",
        "Use a `normalization` from `scikit.preprocessing` to improve the results of the PCA."
      ]
    },
    {
      "metadata": {
        "id": "sQKPPzIJkOWX",
        "colab_type": "code",
        "colab": {
          "base_uri": "https://localhost:8080/",
          "height": 483
        },
        "outputId": "16d86f87-1851-4879-d726-9e6f3e1c81c4"
      },
      "cell_type": "code",
      "source": [
        "from sklearn import preprocessing\n",
        "\n",
        "# Use normalization, and PCA, to make a graph of the data\n",
        "pca_2d = PCA(n_components=2)\n",
        "\n",
        "data_norm = pd.DataFrame(preprocessing.normalize(data, norm='l2'))\n",
        "\n",
        "pca_2d.fit(data_norm)\n",
        "\n",
        "x,y = pca_2d.transform(data).T\n",
        "\n",
        "plt.plot(x,y, 'o')"
      ],
      "execution_count": 14,
      "outputs": [
        {
          "output_type": "stream",
          "text": [
            "[[ 0.11952718  0.02485542  0.02283696  0.23293668  0.94767179  0.02006328\n",
            "   0.01733545  0.00396477  0.01440108  0.02394668  0.00983231  0.0258343\n",
            "  -0.17311533]\n",
            " [-0.2582931  -0.11249743 -0.06421034 -0.91278349  0.25988983 -0.02973999\n",
            "  -0.0165819  -0.01882074 -0.02235519 -0.09800225 -0.00849647 -0.05179892\n",
            "  -0.03763578]]\n",
            "[0.97736071 0.01333082]\n"
          ],
          "name": "stdout"
        },
        {
          "output_type": "execute_result",
          "data": {
            "text/plain": [
              "[<matplotlib.lines.Line2D at 0x7f9c29114470>]"
            ]
          },
          "metadata": {
            "tags": []
          },
          "execution_count": 14
        },
        {
          "output_type": "display_data",
          "data": {
            "image/png": "[encoded data removed]",
            "text/plain": [
              "<matplotlib.figure.Figure at 0x7f9c2920a668>"
            ]
          },
          "metadata": {
            "tags": []
          }
        }
      ]
    },
    {
      "metadata": {
        "id": "qLLfQB2tkYG5",
        "colab_type": "text"
      },
      "cell_type": "markdown",
      "source": [
        "# 4. Compute the eigenvectors of a dataset\n",
        "\n",
        "What are the top-two eigenvectors of the above un-normalized dataset?"
      ]
    },
    {
      "metadata": {
        "id": "ogqNUx2MkeW4",
        "colab_type": "code",
        "colab": {
          "base_uri": "https://localhost:8080/",
          "height": 119
        },
        "outputId": "862c25f7-647d-4f13-cebc-17508e2b8fcb"
      },
      "cell_type": "code",
      "source": [
        "# evec = the top two eigenvectors of the UCI Wine dataset, un-normalized\n",
        "\n",
        "evec = pca_2d.components_\n",
        "print(evec)"
      ],
      "execution_count": 17,
      "outputs": [
        {
          "output_type": "stream",
          "text": [
            "[[ 0.11952718  0.02485542  0.02283696  0.23293668  0.94767179  0.02006328\n",
            "   0.01733545  0.00396477  0.01440108  0.02394668  0.00983231  0.0258343\n",
            "  -0.17311533]\n",
            " [-0.2582931  -0.11249743 -0.06421034 -0.91278349  0.25988983 -0.02973999\n",
            "  -0.0165819  -0.01882074 -0.02235519 -0.09800225 -0.00849647 -0.05179892\n",
            "  -0.03763578]]\n"
          ],
          "name": "stdout"
        }
      ]
    },
    {
      "metadata": {
        "id": "HpCMmjy2kpCZ",
        "colab_type": "text"
      },
      "cell_type": "markdown",
      "source": [
        "# 5. Compute the eigenvalues of a dataset\n",
        "\n",
        "What are the top-two eigenvalues of the above un-normalized dataset?"
      ]
    },
    {
      "metadata": {
        "id": "aJUMEtqpkwD0",
        "colab_type": "code",
        "colab": {
          "base_uri": "https://localhost:8080/",
          "height": 34
        },
        "outputId": "38d37016-1b3a-4888-ba02-af7f462c844c"
      },
      "cell_type": "code",
      "source": [
        "# eval = the top two eigenvalues of the UCI Wine dataset, un-normalized\n",
        "\n",
        "eval = pca_2d.explained_variance_ratio_\n",
        "print(eval)"
      ],
      "execution_count": 16,
      "outputs": [
        {
          "output_type": "stream",
          "text": [
            "[0.97736071 0.01333082]\n"
          ],
          "name": "stdout"
        }
      ]
    }
  ]
}