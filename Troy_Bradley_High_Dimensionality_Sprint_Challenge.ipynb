{
  "nbformat": 4,
  "nbformat_minor": 0,
  "metadata": {
    "colab": {
      "name": "Troy Bradley High Dimensionality Sprint Challenge.ipynb",
      "version": "0.3.2",
      "provenance": [],
      "collapsed_sections": []
    },
    "kernelspec": {
      "name": "python3",
      "display_name": "Python 3"
    }
  },
  "cells": [
    {
      "cell_type": "markdown",
      "metadata": {
        "id": "view-in-github",
        "colab_type": "text"
      },
      "source": [
        "[View in Colaboratory](https://colab.research.google.com/github/bitcointroy/MLsprints/blob/master/Troy_Bradley_High_Dimensionality_Sprint_Challenge.ipynb)"
      ]
    },
    {
      "metadata": {
        "id": "8dtL-3V557G6",
        "colab_type": "text"
      },
      "cell_type": "markdown",
      "source": [
        "# High Dimensionality Sprint Challenge\n",
        "\n",
        "High Dimensionality is characterized by the _Curse of Dimensionality_. Humans can visualize 2d and 3d, but not anything higher. How do we reason about data?\n",
        "\n",
        "High Dimensionality Objectives include:\n",
        "* Normalize a vector into a magnitude and unit vector\n",
        "* Compute L1 and L2 distances of a pair of vectors\n",
        "* Compute the distance between pairs of vectors and select the smallest"
      ]
    },
    {
      "metadata": {
        "id": "PMajVGoY54DR",
        "colab_type": "code",
        "colab": {}
      },
      "cell_type": "code",
      "source": [
        "# LAMBDA SCHOOL\n",
        "#\n",
        "# MACHINE LEARNING\n",
        "#\n",
        "# MIT LICENSE\n",
        "\n",
        "import numpy as np\n",
        "from sklearn import preprocessing"
      ],
      "execution_count": 0,
      "outputs": []
    },
    {
      "metadata": {
        "id": "YUo0Gg2UbieJ",
        "colab_type": "text"
      },
      "cell_type": "markdown",
      "source": [
        "# 1. Normalize a vector into magnitude and unit vector"
      ]
    },
    {
      "metadata": {
        "id": "RuZFC7k8bnRu",
        "colab_type": "code",
        "colab": {
          "base_uri": "https://localhost:8080/",
          "height": 51
        },
        "outputId": "cfac942b-d199-4b5c-f2ce-4564eeb5511c"
      },
      "cell_type": "code",
      "source": [
        "v = np.array([17,7,5,2,1])\n",
        "\n",
        "# m = Magnitude of v\n",
        "m = np.linalg.norm(v)\n",
        "print(m)\n",
        "\n",
        "# v_u = unit vector of v such that u * v_u = v\n",
        "v = v.reshape(-1,1)\n",
        "v_u = preprocessing.normalize(v, norm = 'l2')\n",
        "print(np.matrix(v_u).T * np.matrix(v))\n",
        "# print(np.matmul(v_u.T,v))"
      ],
      "execution_count": 24,
      "outputs": [
        {
          "output_type": "stream",
          "text": [
            "19.183326093250876\n",
            "[[32.]]\n"
          ],
          "name": "stdout"
        }
      ]
    },
    {
      "metadata": {
        "id": "sgNZ1QDCdErt",
        "colab_type": "text"
      },
      "cell_type": "markdown",
      "source": [
        "# 2. Compute the L1 and L2 distances of a pair of vectors\n",
        "\n",
        "Recall that the L1 distance is the \"manhattan\" distance, the sum of absolute values of a vector:\n",
        "\n",
        "$d_{v}^{L1} = \\sum{|v_i|}$\n",
        "\n",
        "The L2 distance or \"euclidean\" distance is the square root of the sum of the squares of a vector:\n",
        "\n",
        "$d_{v}^{L2} = \\sqrt{\\sum{v_i^2}}$"
      ]
    },
    {
      "metadata": {
        "id": "d__wWc1CdSv7",
        "colab_type": "code",
        "colab": {
          "base_uri": "https://localhost:8080/",
          "height": 232
        },
        "outputId": "565274aa-2098-43d0-fd7e-89ae6626f7d2"
      },
      "cell_type": "code",
      "source": [
        "a = np.array([1,2,0,1,2,0,1,2]).reshape(1,-1)\n",
        "b = np.array([9,2,4,1,1,5,0,2]).reshape(1,-1)\n",
        "\n",
        "# l1 = the L1 distance between a and b\n",
        "l_one = preprocessing.normalize(a, norm='l1', return_norm=True) - preprocessing.normalize(b, norm='l1', return_norm=True)\n",
        "print(l_one)\n",
        "\n",
        "# l1 = the L2 distance between a and b\n",
        "l2 = None"
      ],
      "execution_count": 30,
      "outputs": [
        {
          "output_type": "error",
          "ename": "TypeError",
          "evalue": "ignored",
          "traceback": [
            "\u001b[0;31m---------------------------------------------------------------------------\u001b[0m",
            "\u001b[0;31mTypeError\u001b[0m                                 Traceback (most recent call last)",
            "\u001b[0;32m<ipython-input-30-55c712355fcf>\u001b[0m in \u001b[0;36m<module>\u001b[0;34m()\u001b[0m\n\u001b[1;32m      3\u001b[0m \u001b[0;34m\u001b[0m\u001b[0m\n\u001b[1;32m      4\u001b[0m \u001b[0;31m# l1 = the L1 distance between a and b\u001b[0m\u001b[0;34m\u001b[0m\u001b[0;34m\u001b[0m\u001b[0m\n\u001b[0;32m----> 5\u001b[0;31m \u001b[0ml_one\u001b[0m \u001b[0;34m=\u001b[0m \u001b[0mpreprocessing\u001b[0m\u001b[0;34m.\u001b[0m\u001b[0mnormalize\u001b[0m\u001b[0;34m(\u001b[0m\u001b[0ma\u001b[0m\u001b[0;34m,\u001b[0m \u001b[0mnorm\u001b[0m\u001b[0;34m=\u001b[0m\u001b[0;34m'l1'\u001b[0m\u001b[0;34m,\u001b[0m \u001b[0mreturn_norm\u001b[0m\u001b[0;34m=\u001b[0m\u001b[0;32mTrue\u001b[0m\u001b[0;34m)\u001b[0m \u001b[0;34m-\u001b[0m \u001b[0mpreprocessing\u001b[0m\u001b[0;34m.\u001b[0m\u001b[0mnormalize\u001b[0m\u001b[0;34m(\u001b[0m\u001b[0mb\u001b[0m\u001b[0;34m,\u001b[0m \u001b[0mnorm\u001b[0m\u001b[0;34m=\u001b[0m\u001b[0;34m'l1'\u001b[0m\u001b[0;34m,\u001b[0m \u001b[0mreturn_norm\u001b[0m\u001b[0;34m=\u001b[0m\u001b[0;32mTrue\u001b[0m\u001b[0;34m)\u001b[0m\u001b[0;34m\u001b[0m\u001b[0m\n\u001b[0m\u001b[1;32m      6\u001b[0m \u001b[0mprint\u001b[0m\u001b[0;34m(\u001b[0m\u001b[0ml_one\u001b[0m\u001b[0;34m)\u001b[0m\u001b[0;34m\u001b[0m\u001b[0m\n\u001b[1;32m      7\u001b[0m \u001b[0;34m\u001b[0m\u001b[0m\n",
            "\u001b[0;31mTypeError\u001b[0m: unsupported operand type(s) for -: 'tuple' and 'tuple'"
          ]
        }
      ]
    },
    {
      "metadata": {
        "id": "mlKMlSmreNvk",
        "colab_type": "text"
      },
      "cell_type": "markdown",
      "source": [
        "# 3. Compute the distance between pairs of vectors and select the smallest\n",
        "\n",
        "For this sprint challenge goal, you are _NOT_ required to compute the pairwise distance of every point in a set. Instead, find the row $i$ with the shortest distance between $x_i$ and $y_i$, two separate sets of $2d$ points."
      ]
    },
    {
      "metadata": {
        "id": "N33-3PgVeIkR",
        "colab_type": "code",
        "colab": {
          "base_uri": "https://localhost:8080/",
          "height": 51
        },
        "outputId": "65ce8f56-acfa-450c-912e-3511c0a58317"
      },
      "cell_type": "code",
      "source": [
        "x = np.array([[10.,  2.,  0.,  3., -4.,  1., -5., 10.,  7.,  6.],\n",
        "              [-4.,  4., -0.,  4., -9.,  1., -2.,  2.,  1., -1.]]).T\n",
        "\n",
        "y = np.array([[-7., 10., -8.,  7., -5., -4.,  0.,  7., -9., -2.],\n",
        "              [-7.,  2.,  4.,  7., -5., 10., -2., -2.,  1., -2.]]).T\n",
        "\n",
        "# Your code to find the pair of points at row i with the shortest distance between them \n",
        "def get_nearest_pair(set_of_points):\n",
        "  minimum_distance = np.inf; #infinity as a \"number\"\n",
        "  best_points = [-1,-1]\n",
        "  for i in range(set_of_points.shape[0]):\n",
        "    dist = np.linalg.norm(x[i] - y[i])\n",
        "    if(dist < minimum_distance):\n",
        "      minimum_distance = dist\n",
        "      best_points = np.array([x[i],y[i]])\n",
        "  return minimum_distance, best_points\n",
        "\n",
        "# i\n",
        "i = np.linspace(0,9,10)\n",
        "\n",
        "# The distance between x_i and y_i\n",
        "d = get_nearest_pair(i)\n",
        "\n",
        "print(d)"
      ],
      "execution_count": 31,
      "outputs": [
        {
          "output_type": "stream",
          "text": [
            "(4.123105625617661, array([[-4., -9.],\n",
            "       [-5., -5.]]))\n"
          ],
          "name": "stdout"
        }
      ]
    }
  ]
}